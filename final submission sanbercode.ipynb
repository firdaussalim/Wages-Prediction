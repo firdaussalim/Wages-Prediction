{
  "nbformat": 4,
  "nbformat_minor": 0,
  "metadata": {
    "colab": {
      "name": "Untitled13.ipynb",
      "provenance": [],
      "collapsed_sections": []
    },
    "kernelspec": {
      "name": "python3",
      "display_name": "Python 3"
    }
  },
  "cells": [
    {
      "cell_type": "code",
      "metadata": {
        "id": "RTcsjwICWlmN"
      },
      "source": [
        "import numpy as np # linear algebra\n",
        "import pandas as pd # data processing, CSV file I/O (e.g. pd.read_csv)\n",
        "import os\n",
        "for dirname, _, filenames in os.walk('/kaggle/input'):\n",
        "    for filename in filenames:\n",
        "        print(os.path.join(dirname, filename))"
      ],
      "execution_count": null,
      "outputs": []
    },
    {
      "cell_type": "code",
      "metadata": {
        "id": "RiGnqqcNl6fA"
      },
      "source": [
        "train = pd.read_csv('train.csv')\n",
        "test = pd.read_csv('test.csv')"
      ],
      "execution_count": null,
      "outputs": []
    },
    {
      "cell_type": "code",
      "metadata": {
        "id": "UNW3gKOil6k4",
        "colab": {
          "base_uri": "https://localhost:8080/",
          "height": 289
        },
        "outputId": "f6579db4-eb92-4763-b4f1-30e4bf2c9274"
      },
      "source": [
        "dede= train.loc[train['Kelas Pekerja']!='?'].copy()\n",
        "List_Pendidikan = list(dede['Pendidikan'].unique())\n",
        "dicts={}\n",
        "dede.loc[dede['Pendidikan']=='SMA','Kelas Pekerja'].mode()\n",
        "for i in List_Pendidikan:\n",
        "    dicts[i]= dede.loc[dede['Pendidikan']==i,'Kelas Pekerja'].mode().values[0]\n",
        "dicts"
      ],
      "execution_count": null,
      "outputs": [
        {
          "output_type": "execute_result",
          "data": {
            "text/plain": [
              "{'10th': 'Wiraswasta',\n",
              " '11th': 'Wiraswasta',\n",
              " '12th': 'Wiraswasta',\n",
              " '1st-4th': 'Wiraswasta',\n",
              " '5th-6th': 'Wiraswasta',\n",
              " '7th-8th': 'Wiraswasta',\n",
              " '9th': 'Wiraswasta',\n",
              " 'D3': 'Wiraswasta',\n",
              " 'D4': 'Wiraswasta',\n",
              " 'Doktor': 'Wiraswasta',\n",
              " 'Master': 'Wiraswasta',\n",
              " 'Pendidikan Tinggi': 'Wiraswasta',\n",
              " 'SD': 'Wiraswasta',\n",
              " 'SMA': 'Wiraswasta',\n",
              " 'Sarjana': 'Wiraswasta',\n",
              " 'Sekolah Professional': 'Wiraswasta'}"
            ]
          },
          "metadata": {
            "tags": []
          },
          "execution_count": 6
        }
      ]
    },
    {
      "cell_type": "code",
      "metadata": {
        "id": "sPaxbRcSl6se"
      },
      "source": [
        "train['Kelas Pekerja'] = train['Kelas Pekerja'].replace({'?': 'Wiraswasta'})\n",
        "test['Kelas Pekerja'] = test['Kelas Pekerja'].replace({'?': 'Wiraswasta'})"
      ],
      "execution_count": null,
      "outputs": []
    },
    {
      "cell_type": "code",
      "metadata": {
        "id": "BYWxaSALl6yx",
        "colab": {
          "base_uri": "https://localhost:8080/",
          "height": 54
        },
        "outputId": "53c64e73-f3ce-4b30-df36-b6613fbfb865"
      },
      "source": [
        "dicts_pekerjaan= {}\n",
        "for i in List_Pendidikan:\n",
        "    dicts_pekerjaan[i] = dede.loc[dede['Pendidikan']==i,'Pekerjaan'].mode().values[0]\n",
        "print(dicts_pekerjaan)"
      ],
      "execution_count": null,
      "outputs": [
        {
          "output_type": "stream",
          "text": [
            "{'SMA': 'Perbaikan Kerajinan', '10th': 'Servis Lainnya', 'D3': 'Pemuka Agama', 'Sarjana': 'Spesialis', 'Master': 'Spesialis', 'Pendidikan Tinggi': 'Pemuka Agama', '1st-4th': 'Servis Lainnya', 'Sekolah Professional': 'Spesialis', '7th-8th': 'Perbaikan Kerajinan', 'Doktor': 'Spesialis', '5th-6th': 'Servis Lainnya', '11th': 'Servis Lainnya', '9th': 'Perbaikan Kerajinan', 'D4': 'Perbaikan Kerajinan', '12th': 'Servis Lainnya', 'SD': 'Servis Lainnya'}\n"
          ],
          "name": "stdout"
        }
      ]
    },
    {
      "cell_type": "code",
      "metadata": {
        "id": "HX8wpLuil69j",
        "colab": {
          "base_uri": "https://localhost:8080/",
          "height": 34
        },
        "outputId": "f97f00b8-6f23-4e81-a66f-aae38953a8ec"
      },
      "source": [
        "train.loc[train['Kelas Pekerja']=='?'].index.tolist()"
      ],
      "execution_count": null,
      "outputs": [
        {
          "output_type": "execute_result",
          "data": {
            "text/plain": [
              "[]"
            ]
          },
          "metadata": {
            "tags": []
          },
          "execution_count": 9
        }
      ]
    },
    {
      "cell_type": "code",
      "metadata": {
        "id": "vcBp8Secl7F8",
        "colab": {
          "base_uri": "https://localhost:8080/",
          "height": 289
        },
        "outputId": "2b722cc5-f092-488e-a1d2-99a2024deb22"
      },
      "source": [
        "train['Pekerjaan'].value_counts()"
      ],
      "execution_count": null,
      "outputs": [
        {
          "output_type": "execute_result",
          "data": {
            "text/plain": [
              "Spesialis                4587\n",
              "Perbaikan Kerajinan      4507\n",
              "Ekesekutif Managerial    4481\n",
              "Pemuka Agama             4158\n",
              "Sales                    4044\n",
              "Servis Lainnya           3615\n",
              "Mesin Inspeksi           2250\n",
              "?                        2069\n",
              "Supir                    1741\n",
              "Pembersih                1540\n",
              "Petani                   1076\n",
              "Tech-support             1042\n",
              "Penjaga                   686\n",
              "Asisten Rumah Tangga      187\n",
              "Tentara                    11\n",
              "Name: Pekerjaan, dtype: int64"
            ]
          },
          "metadata": {
            "tags": []
          },
          "execution_count": 10
        }
      ]
    },
    {
      "cell_type": "code",
      "metadata": {
        "id": "28IZ7XL1l7dI"
      },
      "source": [
        "berat_label= [1,2,3,4,5,6,7,8,9,10]\n",
        "test['Berat Akhir']=pd.qcut(test['Berat Akhir'],10, labels=berat_label)\n",
        "train['Berat Akhir']=pd.qcut(train['Berat Akhir'],10, labels=berat_label)"
      ],
      "execution_count": null,
      "outputs": []
    },
    {
      "cell_type": "code",
      "metadata": {
        "id": "uzLCXAf7l7w2"
      },
      "source": [
        "train['Pendidikan']=train['Pendidikan'].replace({'SMA':1,'10th':2,'D3':3,'Sarjana':4,'Master':5,'Pendidikan Tinggi':6,'1st-4th':7,'Sekolah Professional':8,'7th-8th':9,'Doktor':10,'5th-6th':11,'11th':12,'9th':13,'D4':14, '12th':15,'SD':16})\n",
        "test['Pendidikan']=test['Pendidikan'].replace({'SMA':1,'10th':2,'D3':3,'Sarjana':4,'Master':5,'Pendidikan Tinggi':6,'1st-4th':7,'Sekolah Professional':8,'7th-8th':9,'Doktor':10,'5th-6th':11,'11th':12,'9th':13,'D4':14, '12th':15,'SD':16})\n",
        "train['Gaji']=train['Gaji'].replace({'<=7jt':0,'>7jt':1})"
      ],
      "execution_count": null,
      "outputs": []
    },
    {
      "cell_type": "code",
      "metadata": {
        "id": "nuE-bwqml7t5",
        "colab": {
          "base_uri": "https://localhost:8080/",
          "height": 1000
        },
        "outputId": "07325152-8e24-4c6c-85d8-c54243e66105"
      },
      "source": [
        "for col in train:\n",
        "    if col=='Gaji':\n",
        "        break\n",
        "    else:\n",
        "        print(train[[col,'Gaji']].groupby([col],as_index=False).mean())"
      ],
      "execution_count": null,
      "outputs": [
        {
          "output_type": "stream",
          "text": [
            "          id  Gaji\n",
            "0          0     0\n",
            "1          1     0\n",
            "2          2     1\n",
            "3          3     0\n",
            "4          4     1\n",
            "...      ...   ...\n",
            "35989  35989     0\n",
            "35990  35990     1\n",
            "35991  35991     1\n",
            "35992  35992     0\n",
            "35993  35993     1\n",
            "\n",
            "[35994 rows x 2 columns]\n",
            "    Umur      Gaji\n",
            "0     17  0.000000\n",
            "1     18  0.000000\n",
            "2     19  0.002608\n",
            "3     20  0.001196\n",
            "4     21  0.005896\n",
            "..   ...       ...\n",
            "68    85  0.500000\n",
            "69    86  0.000000\n",
            "70    87  0.000000\n",
            "71    88  0.200000\n",
            "72    90  0.235294\n",
            "\n",
            "[73 rows x 2 columns]\n",
            "                   Kelas Pekerja      Gaji\n",
            "0  Pekerja Bebas Bukan Perusahan  0.275297\n",
            "1       Pekerja Bebas Perusahaan  0.556167\n",
            "2               Pemerintah Lokal  0.296930\n",
            "3              Pemerintah Negara  0.276913\n",
            "4            Pemerintah Provinsi  0.402439\n",
            "5                 Tanpa di Bayar  0.066667\n",
            "6           Tidak Pernah Bekerja  0.000000\n",
            "7                     Wiraswasta  0.207952\n",
            "  Berat Akhir      Gaji\n",
            "0           1  0.213333\n",
            "1           2  0.246179\n",
            "2           3  0.252570\n",
            "3           4  0.251805\n",
            "4           5  0.252711\n",
            "5           6  0.254237\n",
            "6           7  0.235278\n",
            "7           8  0.228675\n",
            "8           9  0.221266\n",
            "9          10  0.241590\n",
            "    Pendidikan      Gaji\n",
            "0            1  0.157809\n",
            "1            2  0.066406\n",
            "2            3  0.260426\n",
            "3            4  0.414980\n",
            "4            5  0.542695\n",
            "5            6  0.187383\n",
            "6            7  0.038043\n",
            "7            8  0.745981\n",
            "8            9  0.067449\n",
            "9           10  0.731707\n",
            "10          11  0.054124\n",
            "11          12  0.051711\n",
            "12          13  0.064912\n",
            "13          14  0.260667\n",
            "14          15  0.073222\n",
            "15          16  0.016129\n",
            "    Jmlh Tahun Pendidikan      Gaji\n",
            "0                       1  0.016129\n",
            "1                       2  0.038043\n",
            "2                       3  0.054124\n",
            "3                       4  0.067449\n",
            "4                       5  0.064912\n",
            "5                       6  0.066406\n",
            "6                       7  0.051711\n",
            "7                       8  0.073222\n",
            "8                       9  0.157809\n",
            "9                      10  0.187383\n",
            "10                     11  0.260667\n",
            "11                     12  0.260426\n",
            "12                     13  0.414980\n",
            "13                     14  0.542695\n",
            "14                     15  0.745981\n",
            "15                     16  0.731707\n",
            "      Status Perkawinan      Gaji\n",
            "0  Belum Pernah Menikah  0.045481\n",
            "1              Berpisah  0.072374\n",
            "2                 Cerai  0.101503\n",
            "3                 Janda  0.079782\n",
            "4               Menikah  0.445136\n",
            "5           Menikah LDR  0.116090\n",
            "                Pekerjaan      Gaji\n",
            "0                       ?  0.095215\n",
            "1    Asisten Rumah Tangga  0.016043\n",
            "2   Ekesekutif Managerial  0.477126\n",
            "3          Mesin Inspeksi  0.130222\n",
            "4               Pembersih  0.063636\n",
            "5            Pemuka Agama  0.145022\n",
            "6                 Penjaga  0.307580\n",
            "7     Perbaikan Kerajinan  0.221433\n",
            "8                  Petani  0.112454\n",
            "9                   Sales  0.269782\n",
            "10         Servis Lainnya  0.039004\n",
            "11              Spesialis  0.449095\n",
            "12                  Supir  0.207926\n",
            "13           Tech-support  0.297505\n",
            "14                Tentara  0.363636\n",
            "  Jenis Kelamin      Gaji\n",
            "0         Laki2  0.302814\n",
            "1     Perempuan  0.112101\n",
            "     Keuntungan Kapital      Gaji\n",
            "0          0.000000e+00  0.205324\n",
            "1          1.596000e+06  0.000000\n",
            "2          5.614000e+06  0.000000\n",
            "3          8.316000e+06  0.000000\n",
            "4          1.279600e+07  0.000000\n",
            "..                  ...       ...\n",
            "115        3.533040e+08  1.000000\n",
            "116        3.895920e+08  1.000000\n",
            "117        4.773300e+08  0.000000\n",
            "118        5.783400e+08  0.000000\n",
            "119        1.399986e+09  1.000000\n",
            "\n",
            "[120 rows x 2 columns]\n",
            "    Kerugian Capital      Gaji\n",
            "0                0.0  0.227177\n",
            "1          2170000.0  0.000000\n",
            "2          2982000.0  0.000000\n",
            "3          4522000.0  0.000000\n",
            "4          5866000.0  0.000000\n",
            "..               ...       ...\n",
            "91        44450000.0  0.000000\n",
            "92        51562000.0  1.000000\n",
            "93        52780000.0  0.000000\n",
            "94        54600000.0  0.000000\n",
            "95        60984000.0  0.000000\n",
            "\n",
            "[96 rows x 2 columns]\n",
            "    Jam per Minggu      Gaji\n",
            "0              1.0  0.166667\n",
            "1              2.0  0.184211\n",
            "2              3.0  0.046512\n",
            "3              4.0  0.060606\n",
            "4              5.0  0.104478\n",
            "..             ...       ...\n",
            "89            95.0  1.000000\n",
            "90            96.0  0.111111\n",
            "91            97.0  0.500000\n",
            "92            98.0  0.250000\n",
            "93            99.0  0.277228\n",
            "\n",
            "[94 rows x 2 columns]\n"
          ],
          "name": "stdout"
        }
      ]
    },
    {
      "cell_type": "code",
      "metadata": {
        "id": "BlRIT8ggl7re"
      },
      "source": [
        "train['Status Perkawinan'] = train['Status Perkawinan'].replace({'Menikah':5, 'Belum Pernah Menikah':4,'Cerai':3, 'Berpisah':2, 'Janda':1, 'Menikah LDR':0})\n",
        "test['Status Perkawinan'] = test['Status Perkawinan'].replace({'Menikah':5, 'Belum Pernah Menikah':4,'Cerai':3, 'Berpisah':2, 'Janda':1, 'Menikah LDR':0})"
      ],
      "execution_count": null,
      "outputs": []
    },
    {
      "cell_type": "code",
      "metadata": {
        "id": "WLrK6Wqfl7pA"
      },
      "source": [
        "train['Kelas Pekerja'].unique()\n",
        "train['Kelas Pekerja']=train['Kelas Pekerja'].replace({'Wiraswasta':1, 'Pemerintah Lokal':2, 'Pekerja Bebas Perusahaan':3,\n",
        "       'Pemerintah Negara':4, 'Pekerja Bebas Bukan Perusahan':5,\n",
        "       'Pemerintah Provinsi':6, 'Tidak Pernah Bekerja':7, 'Tanpa di Bayar':8})\n",
        "test['Kelas Pekerja']=test['Kelas Pekerja'].replace({'Wiraswasta':1, 'Pemerintah Lokal':2, 'Pekerja Bebas Perusahaan':3,\n",
        "       'Pemerintah Negara':4, 'Pekerja Bebas Bukan Perusahan':5,\n",
        "       'Pemerintah Provinsi':6, 'Tidak Pernah Bekerja':7, 'Tanpa di Bayar':8})"
      ],
      "execution_count": null,
      "outputs": []
    },
    {
      "cell_type": "code",
      "metadata": {
        "id": "GI4lsTWWl7mu"
      },
      "source": [
        "train['Pekerjaan']=train['Pekerjaan'].replace({'Servis Lainnya':1, 'Ekesekutif Managerial':2, 'Spesialis':3,\n",
        "       'Perbaikan Kerajinan':4, '?':5, 'Sales':6, 'Pembersih':7, 'Pemuka Agama':8,\n",
        "       'Petani':9, 'Tech-support':10, 'Mesin Inspeksi':11, 'Supir':12,\n",
        "       'Asisten Rumah Tangga':13, 'Penjaga':14, 'Tentara':15})\n",
        "test['Pekerjaan']=test['Pekerjaan'].replace({'Servis Lainnya':1, 'Ekesekutif Managerial':2, 'Spesialis':3,\n",
        "       'Perbaikan Kerajinan':4, '?':5, 'Sales':6, 'Pembersih':7, 'Pemuka Agama':8,\n",
        "       'Petani':9, 'Tech-support':10, 'Mesin Inspeksi':11, 'Supir':12,\n",
        "       'Asisten Rumah Tangga':13, 'Penjaga':14, 'Tentara':15})"
      ],
      "execution_count": null,
      "outputs": []
    },
    {
      "cell_type": "code",
      "metadata": {
        "id": "ZOmEI48il7km"
      },
      "source": [
        "train['Jenis Kelamin'] =train['Jenis Kelamin'].replace({'Perempuan':1,'Laki2':2})\n",
        "test['Jenis Kelamin'] =test['Jenis Kelamin'].replace({'Perempuan':1,'Laki2':2})"
      ],
      "execution_count": null,
      "outputs": []
    },
    {
      "cell_type": "code",
      "metadata": {
        "id": "9fXMlUycl7h4"
      },
      "source": [
        "a, b  =pd.cut(train['Keuntungan Kapital'],10 ,labels=[1,2,3,4,5,6,7,8,9,10], retbins=True)\n",
        "train['Keuntungan Kapital']= pd.cut(train['Keuntungan Kapital'], bins=b,labels=[1,2,3,4,5,6,7,8,9,10])\n",
        "test['Keuntungan Kapital']= pd.cut(test['Keuntungan Kapital'], bins=b,labels=[1,2,3,4,5,6,7,8,9,10])\n",
        "\n",
        "#Memberikan pembagian label pada kerugian capital\n",
        "c, d = pd.cut(train['Kerugian Capital'],5 ,labels=[1,2,3,4,5], retbins=True)\n",
        "train['Kerugian Capital']= pd.cut(train['Kerugian Capital'], bins=d,labels=[1,2,3,4,5])\n",
        "test['Kerugian Capital']= pd.cut(test['Kerugian Capital'], bins=d,labels=[1,2,3,4,5])"
      ],
      "execution_count": null,
      "outputs": []
    },
    {
      "cell_type": "code",
      "metadata": {
        "id": "HH5jgtFHl7aO",
        "colab": {
          "base_uri": "https://localhost:8080/",
          "height": 238
        },
        "outputId": "42f06af9-af2b-466b-bc51-093b94ab40cb"
      },
      "source": [
        "test.isnull().sum()"
      ],
      "execution_count": null,
      "outputs": [
        {
          "output_type": "execute_result",
          "data": {
            "text/plain": [
              "id                       0\n",
              "Umur                     0\n",
              "Kelas Pekerja            0\n",
              "Berat Akhir              0\n",
              "Pendidikan               0\n",
              "Jmlh Tahun Pendidikan    0\n",
              "Status Perkawinan        0\n",
              "Pekerjaan                0\n",
              "Jenis Kelamin            0\n",
              "Keuntungan Kapital       0\n",
              "Kerugian Capital         0\n",
              "Jam per Minggu           0\n",
              "dtype: int64"
            ]
          },
          "metadata": {
            "tags": []
          },
          "execution_count": 19
        }
      ]
    },
    {
      "cell_type": "code",
      "metadata": {
        "id": "Cpx9U8AXl7Xl"
      },
      "source": [
        "import matplotlib.pyplot as plt"
      ],
      "execution_count": null,
      "outputs": []
    },
    {
      "cell_type": "code",
      "metadata": {
        "id": "iXUn3VR6l7Ug",
        "colab": {
          "base_uri": "https://localhost:8080/",
          "height": 401
        },
        "outputId": "d42ce766-1496-41b6-94b1-8613a0242da5"
      },
      "source": [
        "plt.boxplot(train['Jam per Minggu'])"
      ],
      "execution_count": null,
      "outputs": [
        {
          "output_type": "execute_result",
          "data": {
            "text/plain": [
              "{'boxes': [<matplotlib.lines.Line2D at 0x7fa904e8abe0>],\n",
              " 'caps': [<matplotlib.lines.Line2D at 0x7fa904ea0630>,\n",
              "  <matplotlib.lines.Line2D at 0x7fa904ea09b0>],\n",
              " 'fliers': [<matplotlib.lines.Line2D at 0x7fa904e2e0f0>],\n",
              " 'means': [],\n",
              " 'medians': [<matplotlib.lines.Line2D at 0x7fa904ea0d30>],\n",
              " 'whiskers': [<matplotlib.lines.Line2D at 0x7fa904e8aef0>,\n",
              "  <matplotlib.lines.Line2D at 0x7fa904ea02b0>]}"
            ]
          },
          "metadata": {
            "tags": []
          },
          "execution_count": 22
        },
        {
          "output_type": "display_data",
          "data": {
            "image/png": "[encoded data removed]",
            "text/plain": [
              "<Figure size 432x288 with 1 Axes>"
            ]
          },
          "metadata": {
            "tags": [],
            "needs_background": "light"
          }
        }
      ]
    },
    {
      "cell_type": "code",
      "metadata": {
        "id": "lqEFm2Osl7Ro"
      },
      "source": [
        "e,f = pd.cut(train['Jam per Minggu'],3, labels=[1,2,3],retbins=True)\n",
        "train['Jam per Minggu']=pd.cut(train['Jam per Minggu'],bins=f, labels=[1,2,3])\n",
        "test['Jam per Minggu']=pd.cut(test['Jam per Minggu'],bins=f, labels=[1,2,3])"
      ],
      "execution_count": null,
      "outputs": []
    },
    {
      "cell_type": "code",
      "metadata": {
        "id": "YOlgo6Cql7PI",
        "colab": {
          "base_uri": "https://localhost:8080/",
          "height": 418
        },
        "outputId": "836f235e-e96b-4491-f101-f08ad24b607e"
      },
      "source": [
        "plt.boxplot(train['Umur'])\n",
        "print(train['Umur'].describe())"
      ],
      "execution_count": null,
      "outputs": [
        {
          "output_type": "stream",
          "text": [
            "count    35994.000000\n",
            "mean        38.664555\n",
            "std         13.676266\n",
            "min         17.000000\n",
            "25%         28.000000\n",
            "50%         37.000000\n",
            "75%         48.000000\n",
            "max         90.000000\n",
            "Name: Umur, dtype: float64\n"
          ],
          "name": "stdout"
        },
        {
          "output_type": "display_data",
          "data": {
            "image/png": "[encoded data removed]",
            "text/plain": [
              "<Figure size 432x288 with 1 Axes>"
            ]
          },
          "metadata": {
            "tags": [],
            "needs_background": "light"
          }
        }
      ]
    },
    {
      "cell_type": "code",
      "metadata": {
        "id": "S3JFzSpzl7M_"
      },
      "source": [
        "g,h = pd.cut(train['Umur'],3, labels=[1,2,3],retbins=True)\n",
        "train['Umur']=pd.cut(train['Umur'],bins=h, labels=[1,2,3])\n",
        "test['Umur']=pd.cut(test['Umur'],bins=h, labels=[1,2,3])"
      ],
      "execution_count": null,
      "outputs": []
    },
    {
      "cell_type": "code",
      "metadata": {
        "id": "dGWVidfll7K7"
      },
      "source": [
        "from sklearn.linear_model import LogisticRegression\n",
        "from sklearn.svm import SVC, LinearSVC\n",
        "from sklearn.ensemble import RandomForestClassifier\n",
        "from sklearn.neighbors import KNeighborsClassifier\n",
        "from sklearn.naive_bayes import GaussianNB\n",
        "from sklearn.linear_model import Perceptron\n",
        "from sklearn.linear_model import SGDClassifier\n",
        "from sklearn.tree import DecisionTreeClassifier\n",
        "from sklearn.metrics import roc_auc_score"
      ],
      "execution_count": null,
      "outputs": []
    },
    {
      "cell_type": "code",
      "metadata": {
        "id": "soN06Avsl7EU",
        "colab": {
          "base_uri": "https://localhost:8080/",
          "height": 34
        },
        "outputId": "529cd1be-86d3-4236-ea2b-8e30cd793f7a"
      },
      "source": [
        "X_train = train.drop([\"id\",\"Gaji\"], axis=1)\n",
        "Y_train = train[\"Gaji\"]\n",
        "X_test  = test.drop(\"id\", axis=1).copy()\n",
        "X_train.shape, Y_train.shape, X_test.shape"
      ],
      "execution_count": null,
      "outputs": [
        {
          "output_type": "execute_result",
          "data": {
            "text/plain": [
              "((35994, 11), (35994,), (9599, 11))"
            ]
          },
          "metadata": {
            "tags": []
          },
          "execution_count": 27
        }
      ]
    },
    {
      "cell_type": "code",
      "metadata": {
        "id": "4OC9cDJKl7CJ",
        "colab": {
          "base_uri": "https://localhost:8080/",
          "height": 190
        },
        "outputId": "583e6cde-17f6-44e7-9d0d-3da70906edda"
      },
      "source": [
        "logreg = LogisticRegression()\n",
        "logreg.fit(X_train, Y_train)\n",
        "Y_pred_LS = logreg.predict(X_test)\n",
        "acc_log = round(logreg.score(X_train, Y_train) * 100, 2)\n",
        "acc_log"
      ],
      "execution_count": null,
      "outputs": [
        {
          "output_type": "stream",
          "text": [
            "/usr/local/lib/python3.6/dist-packages/sklearn/linear_model/_logistic.py:940: ConvergenceWarning: lbfgs failed to converge (status=1):\n",
            "STOP: TOTAL NO. of ITERATIONS REACHED LIMIT.\n",
            "\n",
            "Increase the number of iterations (max_iter) or scale the data as shown in:\n",
            "    https://scikit-learn.org/stable/modules/preprocessing.html\n",
            "Please also refer to the documentation for alternative solver options:\n",
            "    https://scikit-learn.org/stable/modules/linear_model.html#logistic-regression\n",
            "  extra_warning_msg=_LOGISTIC_SOLVER_CONVERGENCE_MSG)\n"
          ],
          "name": "stderr"
        },
        {
          "output_type": "execute_result",
          "data": {
            "text/plain": [
              "83.13"
            ]
          },
          "metadata": {
            "tags": []
          },
          "execution_count": 28
        }
      ]
    },
    {
      "cell_type": "code",
      "metadata": {
        "id": "QdV-OK_bl67c",
        "colab": {
          "base_uri": "https://localhost:8080/",
          "height": 34
        },
        "outputId": "ff5ab6ea-9bba-4bc6-c442-8fbee9610740"
      },
      "source": [
        "Y_train_pred_LS = logreg.predict(X_train)\n",
        "roc_auc_score(Y_train,Y_train_pred_LS)"
      ],
      "execution_count": null,
      "outputs": [
        {
          "output_type": "execute_result",
          "data": {
            "text/plain": [
              "0.712937619827829"
            ]
          },
          "metadata": {
            "tags": []
          },
          "execution_count": 29
        }
      ]
    },
    {
      "cell_type": "code",
      "metadata": {
        "id": "WAGmdx9Wl65H",
        "colab": {
          "base_uri": "https://localhost:8080/",
          "height": 34
        },
        "outputId": "1aa33bb6-918b-48a8-fd14-f13f2d8acb7b"
      },
      "source": [
        "random_forest = RandomForestClassifier(n_estimators=200)\n",
        "random_forest.fit(X_train, Y_train)\n",
        "Y_pred_RF = random_forest.predict(X_test)\n",
        "random_forest.score(X_train, Y_train)\n",
        "acc_random_forest = round(random_forest.score(X_train, Y_train) * 100, 2)\n",
        "acc_random_forest"
      ],
      "execution_count": null,
      "outputs": [
        {
          "output_type": "execute_result",
          "data": {
            "text/plain": [
              "91.48"
            ]
          },
          "metadata": {
            "tags": []
          },
          "execution_count": 30
        }
      ]
    },
    {
      "cell_type": "code",
      "metadata": {
        "id": "OWP2fHT2l63e",
        "colab": {
          "base_uri": "https://localhost:8080/",
          "height": 34
        },
        "outputId": "429b7f38-1175-4220-ff2a-01eee2afef5f"
      },
      "source": [
        "Y_train_RF = random_forest.predict(X_train)\n",
        "roc_auc_score(Y_train,Y_train_RF)"
      ],
      "execution_count": null,
      "outputs": [
        {
          "output_type": "execute_result",
          "data": {
            "text/plain": [
              "0.8688149699946628"
            ]
          },
          "metadata": {
            "tags": []
          },
          "execution_count": 31
        }
      ]
    },
    {
      "cell_type": "code",
      "metadata": {
        "id": "UxUGfPXHl6w_",
        "colab": {
          "base_uri": "https://localhost:8080/",
          "height": 34
        },
        "outputId": "1bce9cd5-36dc-44d6-954d-20243c1fe401"
      },
      "source": [
        "knn = KNeighborsClassifier(n_neighbors = 24, weights='uniform')\n",
        "knn.fit(X_train, Y_train)\n",
        "Y_pred_KNN = knn.predict(X_test)\n",
        "acc_knn = round(knn.score(X_train, Y_train) * 100, 2)\n",
        "acc_knn"
      ],
      "execution_count": null,
      "outputs": [
        {
          "output_type": "execute_result",
          "data": {
            "text/plain": [
              "83.53"
            ]
          },
          "metadata": {
            "tags": []
          },
          "execution_count": 32
        }
      ]
    },
    {
      "cell_type": "code",
      "metadata": {
        "id": "Ple_DlsEl6qd",
        "colab": {
          "base_uri": "https://localhost:8080/",
          "height": 34
        },
        "outputId": "96f9a8a8-f872-484a-b6bf-a09e855febae"
      },
      "source": [
        "Y_train_KNN = random_forest.predict(X_train)\n",
        "roc_auc_score(Y_train,Y_train_KNN)"
      ],
      "execution_count": null,
      "outputs": [
        {
          "output_type": "execute_result",
          "data": {
            "text/plain": [
              "0.8688149699946628"
            ]
          },
          "metadata": {
            "tags": []
          },
          "execution_count": 33
        }
      ]
    },
    {
      "cell_type": "code",
      "metadata": {
        "id": "w1ylgcExl6o5",
        "colab": {
          "base_uri": "https://localhost:8080/",
          "height": 258
        },
        "outputId": "a0c6b6bb-43d0-444b-f497-10430232cf15"
      },
      "source": [
        "test['Gaji'] = Y_pred_RF\n",
        "test.head()"
      ],
      "execution_count": null,
      "outputs": [
        {
          "output_type": "execute_result",
          "data": {
            "text/html": [
              "<div>\n",
              "<style scoped>\n",
              "    .dataframe tbody tr th:only-of-type {\n",
              "        vertical-align: middle;\n",
              "    }\n",
              "\n",
              "    .dataframe tbody tr th {\n",
              "        vertical-align: top;\n",
              "    }\n",
              "\n",
              "    .dataframe thead th {\n",
              "        text-align: right;\n",
              "    }\n",
              "</style>\n",
              "<table border=\"1\" class=\"dataframe\">\n",
              "  <thead>\n",
              "    <tr style=\"text-align: right;\">\n",
              "      <th></th>\n",
              "      <th>id</th>\n",
              "      <th>Umur</th>\n",
              "      <th>Kelas Pekerja</th>\n",
              "      <th>Berat Akhir</th>\n",
              "      <th>Pendidikan</th>\n",
              "      <th>Jmlh Tahun Pendidikan</th>\n",
              "      <th>Status Perkawinan</th>\n",
              "      <th>Pekerjaan</th>\n",
              "      <th>Jenis Kelamin</th>\n",
              "      <th>Keuntungan Kapital</th>\n",
              "      <th>Kerugian Capital</th>\n",
              "      <th>Jam per Minggu</th>\n",
              "      <th>Gaji</th>\n",
              "    </tr>\n",
              "  </thead>\n",
              "  <tbody>\n",
              "    <tr>\n",
              "      <th>0</th>\n",
              "      <td>35994</td>\n",
              "      <td>1</td>\n",
              "      <td>2</td>\n",
              "      <td>2</td>\n",
              "      <td>14</td>\n",
              "      <td>11</td>\n",
              "      <td>3</td>\n",
              "      <td>8</td>\n",
              "      <td>1</td>\n",
              "      <td>1</td>\n",
              "      <td>1</td>\n",
              "      <td>2</td>\n",
              "      <td>0</td>\n",
              "    </tr>\n",
              "    <tr>\n",
              "      <th>1</th>\n",
              "      <td>35995</td>\n",
              "      <td>1</td>\n",
              "      <td>1</td>\n",
              "      <td>7</td>\n",
              "      <td>1</td>\n",
              "      <td>9</td>\n",
              "      <td>5</td>\n",
              "      <td>11</td>\n",
              "      <td>2</td>\n",
              "      <td>1</td>\n",
              "      <td>1</td>\n",
              "      <td>2</td>\n",
              "      <td>0</td>\n",
              "    </tr>\n",
              "    <tr>\n",
              "      <th>2</th>\n",
              "      <td>35996</td>\n",
              "      <td>1</td>\n",
              "      <td>6</td>\n",
              "      <td>7</td>\n",
              "      <td>6</td>\n",
              "      <td>10</td>\n",
              "      <td>5</td>\n",
              "      <td>8</td>\n",
              "      <td>2</td>\n",
              "      <td>1</td>\n",
              "      <td>1</td>\n",
              "      <td>2</td>\n",
              "      <td>1</td>\n",
              "    </tr>\n",
              "    <tr>\n",
              "      <th>3</th>\n",
              "      <td>35997</td>\n",
              "      <td>2</td>\n",
              "      <td>1</td>\n",
              "      <td>10</td>\n",
              "      <td>6</td>\n",
              "      <td>10</td>\n",
              "      <td>5</td>\n",
              "      <td>2</td>\n",
              "      <td>2</td>\n",
              "      <td>1</td>\n",
              "      <td>3</td>\n",
              "      <td>2</td>\n",
              "      <td>1</td>\n",
              "    </tr>\n",
              "    <tr>\n",
              "      <th>4</th>\n",
              "      <td>35998</td>\n",
              "      <td>1</td>\n",
              "      <td>1</td>\n",
              "      <td>4</td>\n",
              "      <td>6</td>\n",
              "      <td>10</td>\n",
              "      <td>4</td>\n",
              "      <td>5</td>\n",
              "      <td>1</td>\n",
              "      <td>1</td>\n",
              "      <td>2</td>\n",
              "      <td>2</td>\n",
              "      <td>0</td>\n",
              "    </tr>\n",
              "  </tbody>\n",
              "</table>\n",
              "</div>"
            ],
            "text/plain": [
              "      id Umur  Kelas Pekerja  ... Kerugian Capital  Jam per Minggu  Gaji\n",
              "0  35994    1              2  ...                1               2     0\n",
              "1  35995    1              1  ...                1               2     0\n",
              "2  35996    1              6  ...                1               2     1\n",
              "3  35997    2              1  ...                3               2     1\n",
              "4  35998    1              1  ...                2               2     0\n",
              "\n",
              "[5 rows x 13 columns]"
            ]
          },
          "metadata": {
            "tags": []
          },
          "execution_count": 34
        }
      ]
    },
    {
      "cell_type": "code",
      "metadata": {
        "id": "_jp5tdEhnTKw"
      },
      "source": [
        "train2 = pd.read_csv('train.csv')\n",
        "test2 = pd.read_csv('test.csv')"
      ],
      "execution_count": null,
      "outputs": []
    },
    {
      "cell_type": "code",
      "metadata": {
        "id": "R6Elm9YqnVHl"
      },
      "source": [
        "train['Kelas Pekerja'] = train2['Kelas Pekerja'].copy()\n",
        "test['Kelas Pekerja'] = test2['Kelas Pekerja'].copy()\n",
        "train['Pekerjaan'] = train2['Pekerjaan'].copy()\n",
        "test['Pekerjaan'] = test2['Pekerjaan'].copy()"
      ],
      "execution_count": null,
      "outputs": []
    },
    {
      "cell_type": "code",
      "metadata": {
        "id": "1BFPjy0BnVCA"
      },
      "source": [
        "gabungan = pd.concat([train,test],ignore_index=False)\n",
        "#kemudian berikan kembali label pada kelas pekerja dan pekerjaannya\n",
        "#yang kali ini tanda tanyanya dibiarkan aja\n",
        "gabungan['Pekerjaan']=gabungan['Pekerjaan'].replace({'Servis Lainnya':1, 'Ekesekutif Managerial':2, 'Spesialis':3, 'Perbaikan Kerajinan':4,  'Sales':5, 'Pembersih':6, 'Pemuka Agama':7, 'Petani':8, 'Tech-support':9, 'Mesin Inspeksi':10, 'Supir':11, 'Asisten Rumah Tangga':12, 'Penjaga':13, 'Tentara':14})\n",
        "gabungan['Kelas Pekerja']=gabungan['Kelas Pekerja'].replace({'Wiraswasta':1, 'Pemerintah Lokal':2, 'Pekerja Bebas Perusahaan':3,\n",
        "       'Pemerintah Negara':4, 'Pekerja Bebas Bukan Perusahan':5,\n",
        "       'Pemerintah Provinsi':6, 'Tidak Pernah Bekerja':7, 'Tanpa di Bayar':8})"
      ],
      "execution_count": null,
      "outputs": []
    },
    {
      "cell_type": "code",
      "metadata": {
        "id": "8zo2ATWNnU8Z"
      },
      "source": [
        "data1 = gabungan.loc[gabungan['Kelas Pekerja']!='?'].copy()\n",
        "data2 = gabungan.loc[gabungan['Kelas Pekerja']=='?'].copy()"
      ],
      "execution_count": null,
      "outputs": []
    },
    {
      "cell_type": "code",
      "metadata": {
        "id": "erNDR7cSnU22"
      },
      "source": [
        "data1['Pekerjaan'].value_counts()\n",
        "#Ternyata ada nilai ? yang hadeh , karna ini data training dan cuma , gampangnya di mode aja :)\n",
        "data1['Pekerjaan']= data1['Pekerjaan'].replace({'?':data1['Pekerjaan'].mode().values[0]})"
      ],
      "execution_count": null,
      "outputs": []
    },
    {
      "cell_type": "code",
      "metadata": {
        "id": "_YTMDapknUxi"
      },
      "source": [
        "x_data1_train = data1.drop(['id','Kelas Pekerja','Pekerjaan'], axis=1).copy()\n",
        "y_data1_train_KP = data1['Kelas Pekerja'].copy().astype('int64')\n",
        "x_data2_test = data2.drop(['id','Kelas Pekerja','Pekerjaan'], axis=1).copy()"
      ],
      "execution_count": null,
      "outputs": []
    },
    {
      "cell_type": "code",
      "metadata": {
        "id": "w73a5JBknUrn",
        "colab": {
          "base_uri": "https://localhost:8080/",
          "height": 34
        },
        "outputId": "bc6dd584-5467-4228-cd69-f532b4777bc5"
      },
      "source": [
        "#Kita coba prediksi pakai RFC\n",
        "model_RFC = RandomForestClassifier(n_estimators=100)\n",
        "model_RFC.fit(x_data1_train, y_data1_train_KP)\n",
        "y_data1_test = model_RFC.predict(x_data2_test)\n",
        "acc_model_RFC = round(model_RFC.score(x_data1_train, y_data1_train_KP) * 100, 2)\n",
        "acc_model_RFC"
      ],
      "execution_count": null,
      "outputs": [
        {
          "output_type": "execute_result",
          "data": {
            "text/plain": [
              "78.0"
            ]
          },
          "metadata": {
            "tags": []
          },
          "execution_count": 41
        }
      ]
    },
    {
      "cell_type": "code",
      "metadata": {
        "id": "IYOKYAJynUmJ",
        "colab": {
          "base_uri": "https://localhost:8080/",
          "height": 136
        },
        "outputId": "87f40ca5-88f0-4142-be74-f4004e2fc93c"
      },
      "source": [
        "data2['Kelas Pekerja'] = y_data1_test\n",
        "data2['Kelas Pekerja'].value_counts()"
      ],
      "execution_count": null,
      "outputs": [
        {
          "output_type": "execute_result",
          "data": {
            "text/plain": [
              "1    2359\n",
              "5     162\n",
              "2      46\n",
              "3      23\n",
              "4      21\n",
              "6       4\n",
              "Name: Kelas Pekerja, dtype: int64"
            ]
          },
          "metadata": {
            "tags": []
          },
          "execution_count": 42
        }
      ]
    },
    {
      "cell_type": "code",
      "metadata": {
        "id": "McL5TszenUhI"
      },
      "source": [
        "data1['Kelas Pekerja'] = data1['Kelas Pekerja'].astype('int64')"
      ],
      "execution_count": null,
      "outputs": []
    },
    {
      "cell_type": "code",
      "metadata": {
        "id": "PqBbkC9FnUb4"
      },
      "source": [
        "x_data1_train_P = data1.drop(['id','Pekerjaan'], axis=1).copy()\n",
        "y_data1_train_P = data1['Pekerjaan'].copy()\n",
        "x_data2_test_P = data2.drop(['id','Pekerjaan'], axis=1).copy()"
      ],
      "execution_count": null,
      "outputs": []
    },
    {
      "cell_type": "code",
      "metadata": {
        "id": "K5lQ2vRtnUW2",
        "colab": {
          "base_uri": "https://localhost:8080/",
          "height": 34
        },
        "outputId": "6904ae10-790c-4e95-89a4-649e90053da9"
      },
      "source": [
        "#Prediksi Pekerjaan\n",
        "model_RFC = RandomForestClassifier(n_estimators=100)\n",
        "model_RFC.fit(x_data1_train_P, y_data1_train_P)\n",
        "y_data2_test = model_RFC.predict(x_data2_test_P)\n",
        "acc_model_RFC = round(model_RFC.score(x_data1_train_P, y_data1_train_P) * 100, 2)\n",
        "acc_model_RFC"
      ],
      "execution_count": null,
      "outputs": [
        {
          "output_type": "execute_result",
          "data": {
            "text/plain": [
              "51.4"
            ]
          },
          "metadata": {
            "tags": []
          },
          "execution_count": 45
        }
      ]
    },
    {
      "cell_type": "code",
      "metadata": {
        "id": "1ll6renmnUR9",
        "colab": {
          "base_uri": "https://localhost:8080/",
          "height": 255
        },
        "outputId": "4fa6c4aa-c601-4a74-c062-986978509e6b"
      },
      "source": [
        "data2['Pekerjaan'] = y_data2_test\n",
        "data2['Pekerjaan'].value_counts()"
      ],
      "execution_count": null,
      "outputs": [
        {
          "output_type": "execute_result",
          "data": {
            "text/plain": [
              "1     624\n",
              "7     476\n",
              "4     459\n",
              "5     344\n",
              "3     186\n",
              "2     124\n",
              "10     97\n",
              "6      89\n",
              "8      78\n",
              "11     69\n",
              "9      32\n",
              "12     22\n",
              "13     15\n",
              "Name: Pekerjaan, dtype: int64"
            ]
          },
          "metadata": {
            "tags": []
          },
          "execution_count": 46
        }
      ]
    },
    {
      "cell_type": "code",
      "metadata": {
        "id": "8toF8v7vnUM2",
        "colab": {
          "base_uri": "https://localhost:8080/",
          "height": 357
        },
        "outputId": "2ccf3613-00ff-4c3f-c8e2-2a9eb3bf80b5"
      },
      "source": [
        "Data_lengkap= pd.concat([data1, data2],ignore_index=True)\n",
        "Data_lengkap.info()"
      ],
      "execution_count": null,
      "outputs": [
        {
          "output_type": "stream",
          "text": [
            "<class 'pandas.core.frame.DataFrame'>\n",
            "RangeIndex: 45593 entries, 0 to 45592\n",
            "Data columns (total 13 columns):\n",
            " #   Column                 Non-Null Count  Dtype   \n",
            "---  ------                 --------------  -----   \n",
            " 0   id                     45593 non-null  int64   \n",
            " 1   Umur                   45593 non-null  category\n",
            " 2   Kelas Pekerja          45593 non-null  int64   \n",
            " 3   Berat Akhir            45593 non-null  category\n",
            " 4   Pendidikan             45593 non-null  int64   \n",
            " 5   Jmlh Tahun Pendidikan  45593 non-null  int64   \n",
            " 6   Status Perkawinan      45593 non-null  int64   \n",
            " 7   Pekerjaan              45593 non-null  int64   \n",
            " 8   Jenis Kelamin          45593 non-null  int64   \n",
            " 9   Keuntungan Kapital     45593 non-null  category\n",
            " 10  Kerugian Capital       45593 non-null  category\n",
            " 11  Jam per Minggu         45593 non-null  category\n",
            " 12  Gaji                   45593 non-null  int64   \n",
            "dtypes: category(5), int64(8)\n",
            "memory usage: 3.0 MB\n"
          ],
          "name": "stdout"
        }
      ]
    },
    {
      "cell_type": "code",
      "metadata": {
        "id": "_Q6Bq87XnUGa"
      },
      "source": [
        "Data_lengkap  =Data_lengkap.sort_values(by=['id']).set_index('id')"
      ],
      "execution_count": null,
      "outputs": []
    },
    {
      "cell_type": "code",
      "metadata": {
        "id": "IpDjR46mnUBY"
      },
      "source": [
        "Train_final = Data_lengkap.iloc[:35994]\n",
        "Test_final = Data_lengkap.loc[35994:].drop('Gaji', axis=1)"
      ],
      "execution_count": null,
      "outputs": []
    },
    {
      "cell_type": "code",
      "metadata": {
        "id": "gRDjAx3unTGC"
      },
      "source": [
        "x_Train_final = Train_final.drop('Gaji',axis=1).copy()\n",
        "y_Train_final = Train_final['Gaji'].copy()\n",
        "x_Test_final = Test_final.copy()"
      ],
      "execution_count": null,
      "outputs": []
    },
    {
      "cell_type": "code",
      "metadata": {
        "id": "xwqS3PoBnTA6",
        "colab": {
          "base_uri": "https://localhost:8080/",
          "height": 34
        },
        "outputId": "bce0c160-b74d-4a67-a25e-f4acc8f69ff3"
      },
      "source": [
        "#Random Forest\n",
        "RFC = RandomForestClassifier(n_estimators=250)\n",
        "RFC.fit(x_Train_final, y_Train_final)\n",
        "y_Test_final = RFC.predict(x_Test_final)\n",
        "acc_RFC = round(RFC.score(x_Train_final, y_Train_final) * 100, 2)\n",
        "acc_RFC"
      ],
      "execution_count": null,
      "outputs": [
        {
          "output_type": "execute_result",
          "data": {
            "text/plain": [
              "91.53"
            ]
          },
          "metadata": {
            "tags": []
          },
          "execution_count": 51
        }
      ]
    },
    {
      "cell_type": "code",
      "metadata": {
        "id": "uNMOhJi-nS7g",
        "colab": {
          "base_uri": "https://localhost:8080/",
          "height": 34
        },
        "outputId": "58953dc9-4a22-4777-9f97-57ea5f785c49"
      },
      "source": [
        "y_Train_final_Coba= RFC.predict(x_Train_final)\n",
        "roc_auc_score(y_Train_final,y_Train_final_Coba)"
      ],
      "execution_count": null,
      "outputs": [
        {
          "output_type": "execute_result",
          "data": {
            "text/plain": [
              "0.8692597441335496"
            ]
          },
          "metadata": {
            "tags": []
          },
          "execution_count": 52
        }
      ]
    },
    {
      "cell_type": "code",
      "metadata": {
        "id": "0SNT3fnqoMgD",
        "colab": {
          "base_uri": "https://localhost:8080/",
          "height": 241
        },
        "outputId": "cbac4700-c404-437c-8d79-4313b660b399"
      },
      "source": [
        "from sklearn.model_selection import GridSearchCV , RandomizedSearchCV\n",
        "import numpy as np\n",
        "model = KNeighborsClassifier()\n",
        "param_grid ={'n_neighbors':np.arange(5,25), 'weights':['uniform','distance']}\n",
        "gscv = GridSearchCV(model, param_grid=param_grid, scoring='accuracy', cv=5)\n",
        "gscv.fit(X_train, Y_train)"
      ],
      "execution_count": null,
      "outputs": [
        {
          "output_type": "execute_result",
          "data": {
            "text/plain": [
              "GridSearchCV(cv=5, error_score=nan,\n",
              "             estimator=KNeighborsClassifier(algorithm='auto', leaf_size=30,\n",
              "                                            metric='minkowski',\n",
              "                                            metric_params=None, n_jobs=None,\n",
              "                                            n_neighbors=5, p=2,\n",
              "                                            weights='uniform'),\n",
              "             iid='deprecated', n_jobs=None,\n",
              "             param_grid={'n_neighbors': array([ 5,  6,  7,  8,  9, 10, 11, 12, 13, 14, 15, 16, 17, 18, 19, 20, 21,\n",
              "       22, 23, 24]),\n",
              "                         'weights': ['uniform', 'distance']},\n",
              "             pre_dispatch='2*n_jobs', refit=True, return_train_score=False,\n",
              "             scoring='accuracy', verbose=0)"
            ]
          },
          "metadata": {
            "tags": []
          },
          "execution_count": 54
        }
      ]
    },
    {
      "cell_type": "code",
      "metadata": {
        "id": "7fXMoYrxoMPb",
        "colab": {
          "base_uri": "https://localhost:8080/",
          "height": 34
        },
        "outputId": "cffae1c0-e60c-4b21-abc4-7d74363d83df"
      },
      "source": [
        "gscv.best_params_"
      ],
      "execution_count": null,
      "outputs": [
        {
          "output_type": "execute_result",
          "data": {
            "text/plain": [
              "{'n_neighbors': 24, 'weights': 'uniform'}"
            ]
          },
          "metadata": {
            "tags": []
          },
          "execution_count": 55
        }
      ]
    },
    {
      "cell_type": "code",
      "metadata": {
        "id": "f5NHVyxSnS1G",
        "colab": {
          "base_uri": "https://localhost:8080/",
          "height": 238
        },
        "outputId": "c0d5264f-1d72-4edb-e7f5-79d86cd5a438"
      },
      "source": [
        "#Model KNN\n",
        "knn = KNeighborsClassifier()\n",
        "param_grid ={'n_neighbors':np.arange(5,50), 'weights':['uniform']}\n",
        "gscv = GridSearchCV(knn, param_grid=param_grid, scoring='accuracy', cv=5)\n",
        "gscv.fit(x_Train_final, y_Train_final)"
      ],
      "execution_count": null,
      "outputs": [
        {
          "output_type": "execute_result",
          "data": {
            "text/plain": [
              "GridSearchCV(cv=5, error_score=nan,\n",
              "             estimator=KNeighborsClassifier(algorithm='auto', leaf_size=30,\n",
              "                                            metric='minkowski',\n",
              "                                            metric_params=None, n_jobs=None,\n",
              "                                            n_neighbors=5, p=2,\n",
              "                                            weights='uniform'),\n",
              "             iid='deprecated', n_jobs=None,\n",
              "             param_grid={'n_neighbors': array([ 5,  6,  7,  8,  9, 10, 11, 12, 13, 14, 15, 16, 17, 18, 19, 20, 21,\n",
              "       22, 23, 24, 25, 26, 27, 28, 29, 30, 31, 32, 33, 34, 35, 36, 37, 38,\n",
              "       39, 40, 41, 42, 43, 44, 45, 46, 47, 48, 49]),\n",
              "                         'weights': ['uniform']},\n",
              "             pre_dispatch='2*n_jobs', refit=True, return_train_score=False,\n",
              "             scoring='accuracy', verbose=0)"
            ]
          },
          "metadata": {
            "tags": []
          },
          "execution_count": 56
        }
      ]
    },
    {
      "cell_type": "code",
      "metadata": {
        "id": "xmYLM5YAnSwK",
        "colab": {
          "base_uri": "https://localhost:8080/",
          "height": 34
        },
        "outputId": "7f99ece8-d51b-4acf-f207-0c13f3447293"
      },
      "source": [
        "gscv.best_params_"
      ],
      "execution_count": null,
      "outputs": [
        {
          "output_type": "execute_result",
          "data": {
            "text/plain": [
              "{'n_neighbors': 25, 'weights': 'uniform'}"
            ]
          },
          "metadata": {
            "tags": []
          },
          "execution_count": 57
        }
      ]
    },
    {
      "cell_type": "code",
      "metadata": {
        "id": "n8hozSEZnSrp",
        "colab": {
          "base_uri": "https://localhost:8080/",
          "height": 34
        },
        "outputId": "59305515-d454-4866-a2e8-974d558f95f9"
      },
      "source": [
        "knn = KNeighborsClassifier(n_neighbors = 25, weights='uniform')\n",
        "knn.fit(x_Train_final, y_Train_final)\n",
        "y_Test_final_knn = knn.predict(x_Test_final)\n",
        "acc_knn = round(knn.score(x_Train_final, y_Train_final) * 100, 2)\n",
        "acc_knn"
      ],
      "execution_count": null,
      "outputs": [
        {
          "output_type": "execute_result",
          "data": {
            "text/plain": [
              "83.68"
            ]
          },
          "metadata": {
            "tags": []
          },
          "execution_count": 58
        }
      ]
    },
    {
      "cell_type": "code",
      "metadata": {
        "id": "CFu7uQU_nSnJ"
      },
      "source": [
        "submission = pd.DataFrame({\"id\": test[\"id\"],\"Gaji\": y_Test_final_knn}) \n",
        "submission.to_csv('firdaus.csv',index=False)"
      ],
      "execution_count": null,
      "outputs": []
    },
    {
      "cell_type": "code",
      "metadata": {
        "id": "-TYjlSE4nShc",
        "colab": {
          "base_uri": "https://localhost:8080/",
          "height": 419
        },
        "outputId": "1bb72088-94e7-4553-8b3f-f8a8f3598177"
      },
      "source": [
        "pd.read_csv('firdaus.csv')"
      ],
      "execution_count": null,
      "outputs": [
        {
          "output_type": "execute_result",
          "data": {
            "text/html": [
              "<div>\n",
              "<style scoped>\n",
              "    .dataframe tbody tr th:only-of-type {\n",
              "        vertical-align: middle;\n",
              "    }\n",
              "\n",
              "    .dataframe tbody tr th {\n",
              "        vertical-align: top;\n",
              "    }\n",
              "\n",
              "    .dataframe thead th {\n",
              "        text-align: right;\n",
              "    }\n",
              "</style>\n",
              "<table border=\"1\" class=\"dataframe\">\n",
              "  <thead>\n",
              "    <tr style=\"text-align: right;\">\n",
              "      <th></th>\n",
              "      <th>id</th>\n",
              "      <th>Gaji</th>\n",
              "    </tr>\n",
              "  </thead>\n",
              "  <tbody>\n",
              "    <tr>\n",
              "      <th>0</th>\n",
              "      <td>35994</td>\n",
              "      <td>0</td>\n",
              "    </tr>\n",
              "    <tr>\n",
              "      <th>1</th>\n",
              "      <td>35995</td>\n",
              "      <td>0</td>\n",
              "    </tr>\n",
              "    <tr>\n",
              "      <th>2</th>\n",
              "      <td>35996</td>\n",
              "      <td>0</td>\n",
              "    </tr>\n",
              "    <tr>\n",
              "      <th>3</th>\n",
              "      <td>35997</td>\n",
              "      <td>1</td>\n",
              "    </tr>\n",
              "    <tr>\n",
              "      <th>4</th>\n",
              "      <td>35998</td>\n",
              "      <td>0</td>\n",
              "    </tr>\n",
              "    <tr>\n",
              "      <th>...</th>\n",
              "      <td>...</td>\n",
              "      <td>...</td>\n",
              "    </tr>\n",
              "    <tr>\n",
              "      <th>9594</th>\n",
              "      <td>45588</td>\n",
              "      <td>0</td>\n",
              "    </tr>\n",
              "    <tr>\n",
              "      <th>9595</th>\n",
              "      <td>45589</td>\n",
              "      <td>0</td>\n",
              "    </tr>\n",
              "    <tr>\n",
              "      <th>9596</th>\n",
              "      <td>45590</td>\n",
              "      <td>0</td>\n",
              "    </tr>\n",
              "    <tr>\n",
              "      <th>9597</th>\n",
              "      <td>45591</td>\n",
              "      <td>0</td>\n",
              "    </tr>\n",
              "    <tr>\n",
              "      <th>9598</th>\n",
              "      <td>45592</td>\n",
              "      <td>0</td>\n",
              "    </tr>\n",
              "  </tbody>\n",
              "</table>\n",
              "<p>9599 rows × 2 columns</p>\n",
              "</div>"
            ],
            "text/plain": [
              "         id  Gaji\n",
              "0     35994     0\n",
              "1     35995     0\n",
              "2     35996     0\n",
              "3     35997     1\n",
              "4     35998     0\n",
              "...     ...   ...\n",
              "9594  45588     0\n",
              "9595  45589     0\n",
              "9596  45590     0\n",
              "9597  45591     0\n",
              "9598  45592     0\n",
              "\n",
              "[9599 rows x 2 columns]"
            ]
          },
          "metadata": {
            "tags": []
          },
          "execution_count": 61
        }
      ]
    },
    {
      "cell_type": "code",
      "metadata": {
        "id": "gbvNbKrFnSdK"
      },
      "source": [
        ""
      ],
      "execution_count": null,
      "outputs": []
    },
    {
      "cell_type": "code",
      "metadata": {
        "id": "sUqaUtgCnSZA"
      },
      "source": [
        ""
      ],
      "execution_count": null,
      "outputs": []
    },
    {
      "cell_type": "code",
      "metadata": {
        "id": "zt3dw5XbnSUt"
      },
      "source": [
        ""
      ],
      "execution_count": null,
      "outputs": []
    },
    {
      "cell_type": "code",
      "metadata": {
        "id": "yxHfLmrjnSPU"
      },
      "source": [
        ""
      ],
      "execution_count": null,
      "outputs": []
    },
    {
      "cell_type": "code",
      "metadata": {
        "id": "GnUvJQiZl6jb"
      },
      "source": [
        ""
      ],
      "execution_count": null,
      "outputs": []
    }
  ]
}